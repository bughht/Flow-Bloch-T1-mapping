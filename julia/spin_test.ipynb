{
 "cells": [
  {
   "cell_type": "code",
   "execution_count": null,
   "metadata": {},
   "outputs": [],
   "source": [
    "using BlochSim\n",
    "using Plots\n",
    "plotlyjs()"
   ]
  },
  {
   "attachments": {},
   "cell_type": "markdown",
   "metadata": {},
   "source": [
    "## T2* Test with 90° RF pulse and relaxation"
   ]
  },
  {
   "cell_type": "code",
   "execution_count": null,
   "metadata": {},
   "outputs": [],
   "source": [
    "n_spin=49\n",
    "SPINS= Array{Spin}(undef, n_spin)\n",
    "for idx in range(1,n_spin)\n",
    "    SPINS[idx]=Spin(1,1000, 500, (idx-(n_spin+1)/2)*2)\n",
    "end\n",
    "\n",
    "τ=.5\n",
    "T=0:τ:2500\n",
    "M=zeros(n_spin,length(T),3)\n",
    "for (spin_idx,spin) in enumerate(SPINS)\n",
    "    excite!(spin, InstantaneousRF(π/2))\n",
    "    for i in range(1,length(T))\n",
    "        freeprecess!(spin,τ)\n",
    "        M[spin_idx,i,1]+=spin.M.x\n",
    "        M[spin_idx,i,2]+=spin.M.y\n",
    "        M[spin_idx,i,3]+=spin.M.z\n",
    "    end\n",
    "end\n",
    "plot()\n",
    "for spin_idx in range(1,n_spin)\n",
    "    plot!(M[spin_idx,:,1],M[spin_idx,:,2],M[spin_idx,:,3])\n",
    "end\n",
    "plot!()"
   ]
  },
  {
   "cell_type": "code",
   "execution_count": null,
   "metadata": {},
   "outputs": [],
   "source": [
    "M_sum=sum(M,dims=1)[1,:,:]./n_spin\n",
    "M_sum[M_sum.<1e-10].=0\n",
    "plot()\n",
    "for i in range(1,n_spin)\n",
    "    plot!(T,M[i,:,1],alpha=0.1)\n",
    "end\n",
    "plot!(T,M_sum[:,[1,3]],linewidth=3)\n",
    "plot!()"
   ]
  },
  {
   "attachments": {},
   "cell_type": "markdown",
   "metadata": {},
   "source": [
    "## Spin-Echo Test"
   ]
  },
  {
   "cell_type": "code",
   "execution_count": null,
   "metadata": {},
   "outputs": [],
   "source": [
    "n_spin=49\n",
    "T1=1000\n",
    "T2=500\n",
    "SPINS= Array{Spin}(undef, n_spin)\n",
    "for idx in range(1,n_spin)\n",
    "    SPINS[idx]=Spin(1,T1, T2, (idx-(n_spin+1)/2))\n",
    "end\n",
    "\n",
    "τ=.5\n",
    "T=0:τ:2500\n",
    "TE=300\n",
    "TR=2000\n",
    "M=zeros(n_spin,length(T),3)\n",
    "for (spin_idx,spin) in enumerate(SPINS)\n",
    "    excite!(spin, InstantaneousRF(π/2))\n",
    "    for (i,t) in enumerate(T)\n",
    "        freeprecess!(spin,τ)\n",
    "        if mod(t-TE/2,TE)==0\n",
    "            excite!(spin,InstantaneousRF(pi))\n",
    "        end\n",
    "        # if mod(t,TR)==0\n",
    "        #     excite!(spin,InstantaneousRF(π/2))\n",
    "        # end\n",
    "        M[spin_idx,i,1]+=spin.M.x\n",
    "        M[spin_idx,i,2]+=spin.M.y\n",
    "        M[spin_idx,i,3]+=spin.M.z\n",
    "    end\n",
    "end\n",
    "plot()\n",
    "for spin_idx in range(1,n_spin)\n",
    "    plot!(M[spin_idx,:,1],M[spin_idx,:,2],M[spin_idx,:,3],zlim=(-1,1))\n",
    "end\n",
    "plot!()"
   ]
  },
  {
   "cell_type": "code",
   "execution_count": null,
   "metadata": {},
   "outputs": [],
   "source": [
    "M_sum=sum(M,dims=1)[1,:,:]./n_spin\n",
    "M_sum[M_sum.<1e-10].=0\n",
    "plot()\n",
    "for i in range(1,n_spin)\n",
    "    plot!(T,M[i,:,1],alpha=0.1)\n",
    "end\n",
    "plot!(T,M_sum[:,[1,3]],linewidth=3)\n",
    "plot!()"
   ]
  },
  {
   "cell_type": "code",
   "execution_count": null,
   "metadata": {},
   "outputs": [],
   "source": []
  }
 ],
 "metadata": {
  "kernelspec": {
   "display_name": "Julia 1.8.5",
   "language": "julia",
   "name": "julia-1.8"
  },
  "language_info": {
   "file_extension": ".jl",
   "mimetype": "application/julia",
   "name": "julia",
   "version": "1.8.5"
  },
  "orig_nbformat": 4
 },
 "nbformat": 4,
 "nbformat_minor": 2
}
